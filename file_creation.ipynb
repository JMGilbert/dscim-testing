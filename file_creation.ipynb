{
 "cells": [
  {
   "cell_type": "code",
   "execution_count": 14,
   "metadata": {},
   "outputs": [],
   "source": [
    "import yaml\n",
    "import xarray as xr\n",
    "import pandas as pd\n",
    "import numpy as np\n",
    "import os\n",
    "from pathlib import Path\n",
    "\n",
    "\n",
    "config_file_path = \"configs/dummy_config.yaml\"\n",
    "config = yaml.load(open(config_file_path, 'r'), Loader=yaml.FullLoader)"
   ]
  },
  {
   "cell_type": "code",
   "execution_count": 19,
   "metadata": {},
   "outputs": [],
   "source": [
    "os.makedirs('dummy_data', exist_ok=True)\n",
    "dummy_data_dir = Path('dummy_data')\n",
    "folders = ['climate','sectoral', 'econ']\n",
    "for folder in folders:\n",
    "    os.makedirs(dummy_data_dir / folder, exist_ok=True)"
   ]
  },
  {
   "cell_type": "code",
   "execution_count": null,
   "metadata": {},
   "outputs": [],
   "source": [
    "# GMST file to match temperatures to sectoral damages. CSV file that contains the following columns: \n",
    "# - year: int,\n",
    "# - rcp: str,\n",
    "# - gcm: str,\n",
    "# - anomaly: float\n",
    "\n",
    "years = np.arange(2020, 2031)\n",
    "rcps = ['dummy1', 'dummy2']\n",
    "gcms = ['dummy1', 'dummy2']\n",
    "anomalies = np.random.uniform(0, 10, (len(years), len(rcps), len(gcms)))\n",
    "data = []\n",
    "for i, year in enumerate(years):\n",
    "    for j, rcp in enumerate(rcps):\n",
    "        for k, gcm in enumerate(gcms):\n",
    "            data.append([year, rcp, gcm, anomalies[i, j, k]])\n",
    "df = pd.DataFrame(data, columns=['year', 'rcp', 'gcm', 'anomaly'])\n",
    "df.to_csv(config['AR6_ssp_climate']['gmst_path'], index=False)\n"
   ]
  },
  {
   "cell_type": "code",
   "execution_count": null,
   "metadata": {},
   "outputs": [
    {
     "data": {
      "text/plain": [
       "<xarray.backends.zarr.ZarrStore at 0x26c37f7fe40>"
      ]
     },
     "execution_count": 27,
     "metadata": {},
     "output_type": "execute_result"
    }
   ],
   "source": [
    "import pandas as pd\n",
    "import numpy as np\n",
    "\n",
    "# GMSL file to match temperatures to sectoral coastal damages. Zarr file that contains the following coordinates: \n",
    "# - year: int,\n",
    "# - slr: str,\n",
    "# And the following data variable:\n",
    "# - gmsl: float\n",
    "\n",
    "slrs = [0, 1]\n",
    "gmsls = np.random.uniform(0, 10, len(years))\n",
    "data = []\n",
    "for i, year in enumerate(years):\n",
    "    for slr in slrs:\n",
    "        data.append([year, slr, gmsls[i]])\n",
    "        \n",
    "df = pd.DataFrame(data, columns=['year', 'slr', 'gmsl'])\n",
    "df.set_index(['year','slr'],inplace=True)\n",
    "df.to_xarray().to_zarr(config['AR6_ssp_climate']['gmsl_path'])"
   ]
  },
  {
   "cell_type": "code",
   "execution_count": 57,
   "metadata": {},
   "outputs": [],
   "source": [
    "# GMST control/pulse file. NC4 file that contains the following coordinates:\n",
    "# - year: int,\n",
    "# - rcp: str,\n",
    "# - simulation: int,\n",
    "# - gas: str,\n",
    "# And the following data variables:\n",
    "# - control_temperature: float,\n",
    "# - pulse_temperature: float,\n",
    "# - medianparams_control_temperature: float,\n",
    "# - medianparams_pulse_temperature: float,\n",
    "\n",
    "pulse_years = [2020]\n",
    "years_extrap = np.arange(2001, 2100)\n",
    "simulations = np.arange(4)\n",
    "gas = ['dummy_gas']\n",
    "control_temperatures = np.random.uniform(0, 10, (len(years_extrap), len(rcps), len(simulations), len(gas)))\n",
    "pulse_temperatures = np.random.uniform(0, 10, (len(years_extrap), len(rcps), len(simulations), len(gas), len(pulse_years)))\n",
    "medianparams_control_temperatures = np.random.uniform(0, 10, (len(years_extrap), len(rcps), len(gas)))\n",
    "medianparams_pulse_temperatures = np.random.uniform(0, 10, (len(years_extrap), len(rcps), len(gas), len(pulse_years)))\n",
    "\n",
    "\n",
    "\n",
    "data = {\n",
    "    'control_temperature': (['year', 'rcp', 'simulation', 'gas'], control_temperatures),\n",
    "    'pulse_temperature': (['year', 'rcp', 'simulation', 'gas', 'pulse_year'], pulse_temperatures),\n",
    "    'medianparams_control_temperature': (['year', 'rcp', 'gas'], medianparams_control_temperatures),\n",
    "    'medianparams_pulse_temperature': (['year', 'rcp', 'gas', 'pulse_year'], medianparams_pulse_temperatures)\n",
    "}\n",
    "            \n",
    "ds = xr.Dataset(data_vars=data, coords={'year': years_extrap, 'rcp': rcps, 'simulation': simulations, 'gas': gas, 'pulse_year': pulse_years})\n",
    "ds.to_netcdf(config['AR6_ssp_climate']['gmst_fair_path'])"
   ]
  },
  {
   "cell_type": "code",
   "execution_count": null,
   "metadata": {},
   "outputs": [],
   "source": [
    "# GMSL control/pulse file. NC4 file that contains the following coordinates:\n",
    "# - year: int,\n",
    "# - pulse_year: int,\n",
    "# - rcp: str,\n",
    "# - simulation: int,\n",
    "# - gas: str,\n",
    "# And the following data variables:\n",
    "# - control_gmsl: float,\n",
    "# - pulse_gmsl: float,\n",
    "# - medianparams_control_gmsl: float,\n",
    "# - medianparams_pulse_gmsl: float,\n",
    "\n",
    "\n",
    "control_gmsls = np.random.uniform(0, 10, (len(years_extrap), len(rcps), len(simulations), len(gas)))\n",
    "pulse_gmsls = np.random.uniform(0, 10, (len(years_extrap), len(rcps), len(simulations), len(gas), len(pulse_years)))\n",
    "medianparams_control_gmsls = np.random.uniform(0, 10, (len(years_extrap), len(rcps), len(gas)))\n",
    "medianparams_pulse_gmsls = np.random.uniform(0, 10, (len(years_extrap), len(rcps), len(gas), len(pulse_years)))\n",
    "data = {\n",
    "    'control_gmsl': (['year', 'rcp', 'simulation', 'gas'], control_gmsls),\n",
    "    'pulse_gmsl': (['year', 'rcp', 'simulation', 'gas', 'pulse_years'], pulse_gmsls),\n",
    "    'medianparams_control_gmsl': (['year', 'rcp', 'gas'], medianparams_control_gmsls),\n",
    "    'medianparams_pulse_gmsl': (['year', 'rcp', 'gas', 'pulse_years'], medianparams_pulse_gmsls)\n",
    "}\n",
    "            \n",
    "ds = xr.Dataset(data_vars=data, coords={'year': years_extrap, 'rcp': rcps, 'simulation': simulations, 'gas': gas, 'pulse_years': pulse_years})\n",
    "ds.to_netcdf(config['AR6_ssp_climate']['gmsl_fair_path'])"
   ]
  },
  {
   "cell_type": "code",
   "execution_count": null,
   "metadata": {},
   "outputs": [],
   "source": [
    "# This file converts large pulses of gigatons of a gas to a one ton pulse. NC4 file that contains the following coordinates:\n",
    "# - gas: str,\n",
    "# And the following data variable:\n",
    "# - emissions: float,\n",
    "\n",
    "data = {'emissions': 0.1}\n",
    "ds = xr.Dataset(data_vars=data, coords={'gas': ['dummy_gas']})\n",
    "\n",
    "ds.to_netcdf(config['AR6_ssp_climate']['damages_pulse_conversion_path'])"
   ]
  },
  {
   "cell_type": "code",
   "execution_count": 42,
   "metadata": {},
   "outputs": [
    {
     "data": {
      "text/plain": [
       "<xarray.backends.zarr.ZarrStore at 0x26c38f9d340>"
      ]
     },
     "execution_count": 42,
     "metadata": {},
     "output_type": "execute_result"
    }
   ],
   "source": [
    "# This file contains socioeconomic data. Zarr file that contains the following coordinates:\n",
    "# -year: int,\n",
    "# -SSP: str,\n",
    "# -region: str,\n",
    "# -iam: str,\n",
    "# And the following data variables:\n",
    "# -pop: float,\n",
    "# -gdppc: float,\n",
    "# -gdp: float,\n",
    "\n",
    "SSPs = ['ssp1','ssp2','ssp3','ssp4','ssp5']\n",
    "regions = ['dummy1','dummy2']\n",
    "iams = ['dummy1','dummy2']\n",
    "pop = np.random.uniform(20, 100, (len(years), len(SSPs), len(regions), len(iams)))\n",
    "gdppc = np.random.uniform(50, 100, (len(years), len(SSPs), len(regions), len(iams)))\n",
    "gdp = pop * gdppc\n",
    "data = {\n",
    "    'pop': (('year', 'ssp', 'region', 'model'), pop),\n",
    "    'gdppc': (('year', 'ssp', 'region', 'model'), gdppc),\n",
    "    'gdp': (('year', 'ssp', 'region', 'model'), gdp)\n",
    "}\n",
    "ds = xr.Dataset(data_vars=data, coords={'year': years, 'ssp': SSPs, 'region': regions, 'model': iams})\n",
    "ds.to_zarr(config['econdata']['global_ssp'], mode = 'w')"
   ]
  },
  {
   "cell_type": "code",
   "execution_count": 36,
   "metadata": {},
   "outputs": [
    {
     "data": {
      "text/plain": [
       "<xarray.backends.zarr.ZarrStore at 0x26c37b44440>"
      ]
     },
     "execution_count": 36,
     "metadata": {},
     "output_type": "execute_result"
    }
   ],
   "source": [
    "# Sectoral damages file. Zarr file that contains the following coordinates:\n",
    "# -year: int,\n",
    "# -SSP: str,\n",
    "# -region: str,\n",
    "# -iam: str,\n",
    "# -gcm: str,\n",
    "# -rcp: str,\n",
    "# -batch: int,\n",
    "# And the following data variables:\n",
    "# -delta_dummy: float,\n",
    "# -histclim_dummy: float,\n",
    "\n",
    "batches = np.arange(15)\n",
    "delta_dummy = np.random.uniform(5, 15, (len(rcps), len(regions), len(gcms), len(years), len(iams), len(SSPs), len(batches)))\n",
    "histclim_dummy = np.random.uniform(1, 10, (len(rcps), len(regions), len(gcms), len(years), len(iams), len(SSPs), len(batches)))\n",
    "\n",
    "delta_name = config['sectors']['dummy_not_coastl_sector']['delta']\n",
    "histclim_name = config['sectors']['dummy_not_coastl_sector']['histclim']\n",
    "\n",
    "data = {\n",
    "    delta_name: (('rcp', 'region', 'gcm', 'year', 'model', 'ssp', 'batch'), delta_dummy),\n",
    "    histclim_name: (('rcp', 'region', 'gcm', 'year', 'model', 'ssp', 'batch'), histclim_dummy)\n",
    "}\n",
    "ds = xr.Dataset(data_vars=data, coords={ 'rcp': rcps, 'region': regions, 'gcm': gcms, 'year': years, 'model': iams, 'ssp': SSPs, 'batch':batches}).chunk({'batch':-1})\n",
    "ds.to_zarr(config['sectors']['dummy_not_coastl_sector']['sector_path'], mode = 'w')"
   ]
  },
  {
   "cell_type": "code",
   "execution_count": 37,
   "metadata": {},
   "outputs": [
    {
     "data": {
      "text/plain": [
       "<xarray.backends.zarr.ZarrStore at 0x26c380357c0>"
      ]
     },
     "execution_count": 37,
     "metadata": {},
     "output_type": "execute_result"
    }
   ],
   "source": [
    "# Sectoral damages file. Zarr file that contains the following coordinates:\n",
    "# -year: int,\n",
    "# -SSP: str,\n",
    "# -region: str,\n",
    "# -iam: str,\n",
    "# -slr: str,\n",
    "# -batch: int,\n",
    "# And the following data variables:\n",
    "# -delta_dummy: float,\n",
    "# -histclim_dummy: float,\n",
    "\n",
    "delta_dummy = np.random.uniform(5, 15, (len(regions),  len(years), len(batches), len(slrs), len(iams), len(SSPs)))\n",
    "histclim_dummy = np.random.uniform(1, 10, (len(regions),  len(years), len(batches), len(slrs), len(iams), len(SSPs)))\n",
    "\n",
    "delta_name = config['sectors']['dummy_coastal_sector']['delta']\n",
    "histclim_name = config['sectors']['dummy_coastal_sector']['histclim']\n",
    "\n",
    "data = {\n",
    "    delta_name: (('region', 'year', 'batch', 'slr', 'model', 'ssp'), delta_dummy),\n",
    "    histclim_name: (('region', 'year', 'batch', 'slr', 'model', 'ssp'), histclim_dummy)\n",
    "}\n",
    "ds = xr.Dataset(data_vars=data, coords={'region': regions, 'slr': slrs, 'year': years, 'model': iams, 'ssp': SSPs, 'batch':batches}).chunk({'region':1,'slr':1,'year':1,'model':1,'ssp':1, 'batch':-1})\n",
    "ds.to_zarr(config['sectors']['dummy_coastal_sector']['sector_path'], mode = 'w')"
   ]
  }
 ],
 "metadata": {
  "kernelspec": {
   "display_name": "dscim-testing",
   "language": "python",
   "name": "python3"
  },
  "language_info": {
   "codemirror_mode": {
    "name": "ipython",
    "version": 3
   },
   "file_extension": ".py",
   "mimetype": "text/x-python",
   "name": "python",
   "nbconvert_exporter": "python",
   "pygments_lexer": "ipython3",
   "version": "3.12.8"
  }
 },
 "nbformat": 4,
 "nbformat_minor": 2
}
